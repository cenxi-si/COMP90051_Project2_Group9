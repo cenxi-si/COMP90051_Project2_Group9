{
 "cells": [
  {
   "cell_type": "code",
   "execution_count": 82,
   "metadata": {},
   "outputs": [],
   "source": [
    "import networkx as nx\n",
    "import pandas as pd\n",
    "import numpy as np\n",
    "import json\n",
    "from sklearn.model_selection import train_test_split\n",
    "from itertools import combinations"
   ]
  },
  {
   "cell_type": "code",
   "execution_count": 3,
   "metadata": {},
   "outputs": [],
   "source": [
    "### Some data processing methods\n",
    "\n",
    "# get prolific authors(0-99) from the author list\n",
    "def retain_prolific(author_list: list):\n",
    "    return [x for x in author_list if x < 100]\n",
    "\n",
    "# get coauthors(>99) from the author list\n",
    "def get_coauthor(author_list: list):\n",
    "    return [x for x in author_list if x >= 100]"
   ]
  },
  {
   "cell_type": "code",
   "execution_count": 14,
   "metadata": {},
   "outputs": [],
   "source": [
    "# read train json file\n",
    "train_filename = './data/train.json'\n",
    "with open('./data/train.json', 'r', encoding='utf-8') as f:\n",
    "    raw_train = json.load(f)\n",
    "# read test json file\n",
    "test_filename = './data/test.json'\n",
    "with open('./data/test.json', 'r', encoding='utf-8') as f:\n",
    "    raw_test = json.load(f)\n",
    "    \n",
    "# get a copy\n",
    "train = raw_train.copy()\n",
    "test = raw_test.copy()\n",
    "\n",
    "data_df = pd.DataFrame.from_dict(train)\n",
    "data_df['prolific'] = data_df.apply(lambda x: retain_prolific(x['authors']), axis=1)\n",
    "data_df['coauthors'] = data_df.apply(lambda x: get_coauthor(x['authors']), axis=1)\n",
    "test_df = pd.DataFrame.from_dict(test)"
   ]
  },
  {
   "cell_type": "code",
   "execution_count": 15,
   "metadata": {},
   "outputs": [
    {
     "name": "stdout",
     "output_type": "stream",
     "text": [
      "17409\n",
      "7094\n"
     ]
    }
   ],
   "source": [
    "train_df, validation_df = train_test_split(data_df, test_size=0.05,random_state=42)\n",
    "length = train_df['prolific'].str.len()\n",
    "# number of papers without any prolific author\n",
    "count_empty = (length == 0).sum()\n",
    "# number of papers with prolific authors\n",
    "count_non_emtpy = (length >0).sum()\n",
    "print(count_empty)\n",
    "print(count_non_emtpy)\n",
    "train_without = train_df[train_df['prolific'].str.len() == 0]\n",
    "train_with = train_df[train_df['prolific'].str.len() > 0]\n",
    "# sample same amount of data and concat\n",
    "train_df = pd.concat([train_with, train_without.sample(len(train_with))])"
   ]
  },
  {
   "cell_type": "code",
   "execution_count": 52,
   "metadata": {},
   "outputs": [],
   "source": [
    "authors = list(train_df.authors)\n",
    "train_prolific = list(train_df.prolific)\n",
    "train_coauthor = list(train_df.coauthors)\n",
    "\n"
   ]
  },
  {
   "cell_type": "code",
   "execution_count": 80,
   "metadata": {},
   "outputs": [],
   "source": [
    "tuple_list = []\n",
    "for i in range(len(authors)):\n",
    "    if len(train_prolific[i]) > 0 and len(train_coauthor[i]) > 0:\n",
    "        authors[i].sort()\n",
    "        comb = list(combinations(authors[i],2))\n",
    "        for c in comb:\n",
    "            tuple_list.append(tuple(sorted(c)))\n",
    "\n",
    "prolific_relation = []\n",
    "for i in tuple_list:\n",
    "    if i[0]<100 or i[1]<100:\n",
    "        prolific_relation.append(i)\n",
    "counts = {item:prolific_relation.count(item) for item in prolific_relation}\n"
   ]
  },
  {
   "cell_type": "code",
   "execution_count": 83,
   "metadata": {},
   "outputs": [],
   "source": [
    "unique_nodes=[range(0,21245)]\n",
    "g = nx.Graph()\n",
    "g.add_nodes_from(unique_nodes)"
   ]
  },
  {
   "cell_type": "code",
   "execution_count": 105,
   "metadata": {},
   "outputs": [],
   "source": [
    "for item, count in counts.items():\n",
    "    g.add_edge(item[0], item[1], weight = count)"
   ]
  },
  {
   "cell_type": "code",
   "execution_count": 108,
   "metadata": {},
   "outputs": [],
   "source": [
    "\n",
    "def if_connected(u, v):\n",
    "    return u in g.neighbors(v)"
   ]
  },
  {
   "cell_type": "code",
   "execution_count": 110,
   "metadata": {},
   "outputs": [
    {
     "data": {
      "text/plain": [
       "False"
      ]
     },
     "execution_count": 110,
     "metadata": {},
     "output_type": "execute_result"
    }
   ],
   "source": [
    "if_connected(99, 3000)"
   ]
  }
 ],
 "metadata": {
  "kernelspec": {
   "display_name": "Python 3.10.5 64-bit",
   "language": "python",
   "name": "python3"
  },
  "language_info": {
   "codemirror_mode": {
    "name": "ipython",
    "version": 3
   },
   "file_extension": ".py",
   "mimetype": "text/x-python",
   "name": "python",
   "nbconvert_exporter": "python",
   "pygments_lexer": "ipython3",
   "version": "3.10.5"
  },
  "orig_nbformat": 4,
  "vscode": {
   "interpreter": {
    "hash": "aee8b7b246df8f9039afb4144a1f6fd8d2ca17a180786b69acc140d282b71a49"
   }
  }
 },
 "nbformat": 4,
 "nbformat_minor": 2
}
